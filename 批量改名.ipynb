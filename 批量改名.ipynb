{
 "cells": [
  {
   "cell_type": "markdown",
   "metadata": {},
   "source": [
    "# 文件改名步骤"
   ]
  },
  {
   "cell_type": "code",
   "execution_count": 5,
   "metadata": {},
   "outputs": [],
   "source": [
    "# 引用库和变量\n",
    "import os\n",
    "import re\n",
    "path = '/Users/zhonghao/Downloads/' # 你的地址\n",
    "f = os.listdir(path)\n",
    "reg = r\"wj-\\w{4}\" # 你的re规则"
   ]
  },
  {
   "cell_type": "markdown",
   "metadata": {},
   "source": [
    "有相似特征的，例如按字母顺序的改名，批量删除文件名某些字符的改名"
   ]
  },
  {
   "cell_type": "code",
   "execution_count": 6,
   "metadata": {},
   "outputs": [
    {
     "name": "stdout",
     "output_type": "stream",
     "text": [
      "当前速度:100.00% "
     ]
    }
   ],
   "source": [
    "n = 0\n",
    "count = 0\n",
    "for i in f:\n",
    "    oldname = path + f[n]\n",
    "    newname = re.sub(reg,\"\",oldname)\n",
    "    os.rename(oldname,newname)\n",
    "    count = count + 1\n",
    "    print('\\r当前速度:{:.2f}%'.format(count*100/len(f)),end=\" \")\n",
    "    n = n +1"
   ]
  },
  {
   "cell_type": "code",
   "execution_count": null,
   "metadata": {},
   "outputs": [],
   "source": [
    "old = "
   ]
  },
  {
   "cell_type": "code",
   "execution_count": 9,
   "metadata": {},
   "outputs": [
    {
     "name": "stdin",
     "output_type": "stream",
     "text": [
      "C:/Users/Administrator/Desktop/intro/ saf \n"
     ]
    },
    {
     "ename": "FileNotFoundError",
     "evalue": "[Errno 2] No such file or directory: 'saf '",
     "output_type": "error",
     "traceback": [
      "\u001b[0;31m---------------------------------------------------------------------------\u001b[0m",
      "\u001b[0;31mFileNotFoundError\u001b[0m                         Traceback (most recent call last)",
      "\u001b[0;32m<ipython-input-9-7cee4b41948e>\u001b[0m in \u001b[0;36m<module>\u001b[0;34m\u001b[0m\n\u001b[1;32m      3\u001b[0m \u001b[0;34m\u001b[0m\u001b[0m\n\u001b[1;32m      4\u001b[0m \u001b[0;31m#获取该目录下所有文件，存入列表中\u001b[0m\u001b[0;34m\u001b[0m\u001b[0;34m\u001b[0m\u001b[0;34m\u001b[0m\u001b[0m\n\u001b[0;32m----> 5\u001b[0;31m \u001b[0mf\u001b[0m\u001b[0;34m=\u001b[0m\u001b[0mos\u001b[0m\u001b[0;34m.\u001b[0m\u001b[0mlistdir\u001b[0m\u001b[0;34m(\u001b[0m\u001b[0mpath\u001b[0m\u001b[0;34m)\u001b[0m\u001b[0;34m\u001b[0m\u001b[0;34m\u001b[0m\u001b[0m\n\u001b[0m\u001b[1;32m      6\u001b[0m \u001b[0;34m\u001b[0m\u001b[0m\n\u001b[1;32m      7\u001b[0m \u001b[0mn\u001b[0m\u001b[0;34m=\u001b[0m\u001b[0;36m0\u001b[0m\u001b[0;34m\u001b[0m\u001b[0;34m\u001b[0m\u001b[0m\n",
      "\u001b[0;31mFileNotFoundError\u001b[0m: [Errno 2] No such file or directory: 'saf '"
     ]
    }
   ],
   "source": [
    "import os\n",
    "path=input('C:/Users/Administrator/Desktop/intro/')       \n",
    "\n",
    "#获取该目录下所有文件，存入列表中\n",
    "f=os.listdir(path)\n",
    "\n",
    "n=0\n",
    "for i in f:\n",
    "\n",
    "    #设置旧文件名（就是路径+文件名）\n",
    "    oldname=path+f[n]\n",
    "\n",
    "    #设置新文件名\n",
    "    newname=path+'机场'+str(n+1)+'.jpg'\n",
    "\n",
    "    #用os模块中的rename方法对文件改名\n",
    "    os.rename(oldname,newname)\n",
    "    print(oldname,'======>',newname)"
   ]
  }
 ],
 "metadata": {
  "kernelspec": {
   "display_name": "Python 3",
   "language": "python",
   "name": "python3"
  },
  "language_info": {
   "codemirror_mode": {
    "name": "ipython",
    "version": 3
   },
   "file_extension": ".py",
   "mimetype": "text/x-python",
   "name": "python",
   "nbconvert_exporter": "python",
   "pygments_lexer": "ipython3",
   "version": "3.8.5"
  },
  "toc-showcode": false,
  "toc-showmarkdowntxt": false
 },
 "nbformat": 4,
 "nbformat_minor": 4
}
